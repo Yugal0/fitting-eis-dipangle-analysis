{
 "cells": [
  {
   "cell_type": "code",
   "execution_count": 16,
   "metadata": {},
   "outputs": [],
   "source": [
    "%matplotlib ipympl\n",
    "from models import *\n",
    "from impedance.models.circuits import CustomCircuit\n",
    "import numpy as np\n",
    "import matplotlib.pyplot as plt"
   ]
  },
  {
   "cell_type": "code",
   "execution_count": 31,
   "metadata": {},
   "outputs": [
    {
     "name": "stderr",
     "output_type": "stream",
     "text": [
      "C:\\Users\\admin\\AppData\\Local\\Packages\\PythonSoftwareFoundation.Python.3.10_qbz5n2kfra8p0\\LocalCache\\local-packages\\Python310\\site-packages\\impedance\\models\\circuits\\circuits.py:144: UserWarning: Simulating circuit based on initial parameters\n",
      "  warnings.warn(\"Simulating circuit based on initial parameters\")\n"
     ]
    }
   ],
   "source": [
    "#freq Range\n",
    "f=np.logspace(-3,1,100)\n",
    "#lin, ilin and two params\n",
    "R1=5000\n",
    "Q=1e-3\n",
    "R2=1000\n",
    "alpha=0.95\n",
    "\n",
    "#delta for two\n",
    "delta=0.5\n",
    "\n",
    "#lin circuit\n",
    "c_lin=CustomCircuit(initial_guess=[R1,R1*Q,R2*Q,alpha],circuit=\"TLMlinnew\")\n",
    "z_lin=c_lin.predict(f)\n",
    "\n",
    "#ilin circuit\n",
    "c_ilin=CustomCircuit(initial_guess=[R1,R1*Q,R2*Q,alpha],circuit=\"TLMilinnew\")\n",
    "z_ilin=c_ilin.predict(f)\n",
    "\n",
    "#two circuit\n",
    "c_two=CustomCircuit(initial_guess=[R1,R1*Q,R2*Q,delta,alpha],circuit=\"TLMtwo\")\n",
    "z_two=c_two.predict(f)\n",
    "\n",
    "c_all=[c_lin,c_ilin,c_two]\n",
    "z_all=[z_lin,z_ilin,z_two]\n",
    "profiles=[\"lin\",\"ilin\",\"two\"]\n"
   ]
  },
  {
   "cell_type": "code",
   "execution_count": null,
   "metadata": {},
   "outputs": [],
   "source": [
    "#set the fontsize, labelsizes and fonts etc. for the plots to be made below\n",
    "plt.rcParams['font.size']=12\n",
    "plt.rcParams['axes.labelsize']=12\n",
    "plt.rcParams['xtick.labelsize']=14\n",
    "plt.rcParams['ytick.labelsize']=14\n",
    "\n",
    "\n",
    "fig, axs=plt.subplots(3,3)\n",
    "fig.set_size_inches(8,8)\n",
    "fig.tight_layout()\n",
    "\n",
    "for ax,prof,c in zip(axs[0],profiles,c_all):\n",
    "    if prof==\"lin\":\n",
    "        ax.plot([0,1],[c.initial_guess[0],c.initial_guess[2]*c.initial_guess[0]/c.initial_guess[1]])\n",
    "\n",
    "    if prof==\"ilin\":\n",
    "        ax.plot()\n",
    "\n",
    "    if prof==\"two\":\n",
    "        ax.plot([0,delta,delta,1],[c.initial_guess[0],c.initial_guess[2]*c.initial_guess[0]/c.initial_guess[1]])\n",
    "\n",
    "for ax,z in zip(axs[1],z_all):\n",
    "    ax.plot(np.real(z),-np.imag(z))\n",
    "    ax.set_aspect(\"equal\")\n",
    "    ax.set_xlim(0,10000)\n",
    "    ax.set_ylim(0,10000)\n"
   ]
  }
 ],
 "metadata": {
  "kernelspec": {
   "display_name": "Python 3",
   "language": "python",
   "name": "python3"
  },
  "language_info": {
   "codemirror_mode": {
    "name": "ipython",
    "version": 3
   },
   "file_extension": ".py",
   "mimetype": "text/x-python",
   "name": "python",
   "nbconvert_exporter": "python",
   "pygments_lexer": "ipython3",
   "version": "3.10.11"
  }
 },
 "nbformat": 4,
 "nbformat_minor": 2
}
