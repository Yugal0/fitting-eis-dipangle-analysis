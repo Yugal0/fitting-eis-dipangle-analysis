{
 "cells": [
  {
   "cell_type": "markdown",
   "metadata": {},
   "source": [
    "I want to generate the three plots for two-step, linear, and inverse-linear"
   ]
  },
  {
   "cell_type": "code",
   "execution_count": 2,
   "metadata": {},
   "outputs": [],
   "source": [
    "%matplotlib ipympl\n",
    "from models import *\n",
    "from impedance.models.circuits import CustomCircuit\n",
    "import numpy as np\n",
    "import matplotlib.pyplot as plt"
   ]
  },
  {
   "cell_type": "code",
   "execution_count": 13,
   "metadata": {},
   "outputs": [
    {
     "ename": "ZeroDivisionError",
     "evalue": "float division by zero",
     "output_type": "error",
     "traceback": [
      "\u001b[1;31m---------------------------------------------------------------------------\u001b[0m",
      "\u001b[1;31mZeroDivisionError\u001b[0m                         Traceback (most recent call last)",
      "Cell \u001b[1;32mIn[13], line 24\u001b[0m\n\u001b[0;32m     21\u001b[0m \u001b[38;5;28;01melse\u001b[39;00m:    \n\u001b[0;32m     22\u001b[0m     cmodel\u001b[38;5;241m=\u001b[39mCustomCircuit(initial_guess\u001b[38;5;241m=\u001b[39m[R1,R1\u001b[38;5;241m*\u001b[39mQ,R2\u001b[38;5;241m*\u001b[39mQ,alpha],circuit\u001b[38;5;241m=\u001b[39mprofile)\n\u001b[1;32m---> 24\u001b[0m zexp\u001b[38;5;241m=\u001b[39m\u001b[43mcmodel\u001b[49m\u001b[38;5;241;43m.\u001b[39;49m\u001b[43mpredict\u001b[49m\u001b[43m(\u001b[49m\u001b[43mfrequencies\u001b[49m\u001b[38;5;241;43m=\u001b[39;49m\u001b[43mfreq_list\u001b[49m\u001b[43m)\u001b[49m\n\u001b[0;32m     25\u001b[0m dip_angle\u001b[38;5;241m=\u001b[39malpha\u001b[38;5;241m*\u001b[39m\u001b[38;5;241m45\u001b[39m\u001b[38;5;241m-\u001b[39mnp\u001b[38;5;241m.\u001b[39mmin(\u001b[38;5;241m-\u001b[39mnp\u001b[38;5;241m.\u001b[39mangle(zexp,deg\u001b[38;5;241m=\u001b[39m\u001b[38;5;28;01mTrue\u001b[39;00m))\n\u001b[0;32m     26\u001b[0m theta_dip_list2\u001b[38;5;241m.\u001b[39mappend(dip_angle)\n",
      "File \u001b[1;32m~\\AppData\\Local\\Packages\\PythonSoftwareFoundation.Python.3.10_qbz5n2kfra8p0\\LocalCache\\local-packages\\Python310\\site-packages\\impedance\\models\\circuits\\circuits.py:145\u001b[0m, in \u001b[0;36mBaseCircuit.predict\u001b[1;34m(self, frequencies, use_initial)\u001b[0m\n\u001b[0;32m    143\u001b[0m \u001b[38;5;28;01melse\u001b[39;00m:\n\u001b[0;32m    144\u001b[0m     warnings\u001b[38;5;241m.\u001b[39mwarn(\u001b[38;5;124m\"\u001b[39m\u001b[38;5;124mSimulating circuit based on initial parameters\u001b[39m\u001b[38;5;124m\"\u001b[39m)\n\u001b[1;32m--> 145\u001b[0m     \u001b[38;5;28;01mreturn\u001b[39;00m \u001b[38;5;28;43meval\u001b[39;49m\u001b[43m(\u001b[49m\u001b[43mbuildCircuit\u001b[49m\u001b[43m(\u001b[49m\u001b[38;5;28;43mself\u001b[39;49m\u001b[38;5;241;43m.\u001b[39;49m\u001b[43mcircuit\u001b[49m\u001b[43m,\u001b[49m\u001b[43m \u001b[49m\u001b[43mfrequencies\u001b[49m\u001b[43m,\u001b[49m\n\u001b[0;32m    146\u001b[0m \u001b[43m                             \u001b[49m\u001b[38;5;241;43m*\u001b[39;49m\u001b[38;5;28;43mself\u001b[39;49m\u001b[38;5;241;43m.\u001b[39;49m\u001b[43minitial_guess\u001b[49m\u001b[43m,\u001b[49m\n\u001b[0;32m    147\u001b[0m \u001b[43m                             \u001b[49m\u001b[43mconstants\u001b[49m\u001b[38;5;241;43m=\u001b[39;49m\u001b[38;5;28;43mself\u001b[39;49m\u001b[38;5;241;43m.\u001b[39;49m\u001b[43mconstants\u001b[49m\u001b[43m,\u001b[49m\u001b[43m \u001b[49m\u001b[43meval_string\u001b[49m\u001b[38;5;241;43m=\u001b[39;49m\u001b[38;5;124;43m'\u001b[39;49m\u001b[38;5;124;43m'\u001b[39;49m\u001b[43m,\u001b[49m\n\u001b[0;32m    148\u001b[0m \u001b[43m                             \u001b[49m\u001b[43mindex\u001b[49m\u001b[38;5;241;43m=\u001b[39;49m\u001b[38;5;241;43m0\u001b[39;49m\u001b[43m)\u001b[49m\u001b[43m[\u001b[49m\u001b[38;5;241;43m0\u001b[39;49m\u001b[43m]\u001b[49m\u001b[43m,\u001b[49m\n\u001b[0;32m    149\u001b[0m \u001b[43m                \u001b[49m\u001b[43mcircuit_elements\u001b[49m\u001b[43m)\u001b[49m\n",
      "File \u001b[1;32m<string>:1\u001b[0m\n",
      "File \u001b[1;32m~\\AppData\\Local\\Packages\\PythonSoftwareFoundation.Python.3.10_qbz5n2kfra8p0\\LocalCache\\local-packages\\Python310\\site-packages\\impedance\\models\\circuits\\elements.py:29\u001b[0m, in \u001b[0;36melement.<locals>.decorator.<locals>.wrapper\u001b[1;34m(p, f)\u001b[0m\n\u001b[0;32m     27\u001b[0m \u001b[38;5;28;01mdef\u001b[39;00m \u001b[38;5;21mwrapper\u001b[39m(p, f):\n\u001b[0;32m     28\u001b[0m     typeChecker(p, f, func\u001b[38;5;241m.\u001b[39m\u001b[38;5;18m__name__\u001b[39m, num_params)\n\u001b[1;32m---> 29\u001b[0m     \u001b[38;5;28;01mreturn\u001b[39;00m \u001b[43mfunc\u001b[49m\u001b[43m(\u001b[49m\u001b[43mp\u001b[49m\u001b[43m,\u001b[49m\u001b[43m \u001b[49m\u001b[43mf\u001b[49m\u001b[43m)\u001b[49m\n",
      "File \u001b[1;32me:\\code\\github.com\\yugal0\\fitting-eis-dipangle-analysis\\models.py:79\u001b[0m, in \u001b[0;36mTLMlinnew\u001b[1;34m(p, f)\u001b[0m\n\u001b[0;32m     77\u001b[0m t12\u001b[38;5;241m=\u001b[39mR1\u001b[38;5;241m/\u001b[39mR2\n\u001b[0;32m     78\u001b[0m S\u001b[38;5;241m=\u001b[39mnp\u001b[38;5;241m.\u001b[39msqrt((\u001b[38;5;241m1\u001b[39mj\u001b[38;5;241m*\u001b[39momega)\u001b[38;5;241m*\u001b[39m\u001b[38;5;241m*\u001b[39malpha\u001b[38;5;241m*\u001b[39mR1\u001b[38;5;241m*\u001b[39mQ)\n\u001b[1;32m---> 79\u001b[0m kk1\u001b[38;5;241m=\u001b[39m\u001b[38;5;241m-\u001b[39m\u001b[38;5;241m2\u001b[39m\u001b[38;5;241m/\u001b[39m\u001b[38;5;241m3\u001b[39m\u001b[38;5;241m*\u001b[39m(S\u001b[38;5;241m*\u001b[39m(\u001b[43mt12\u001b[49m\u001b[38;5;241;43m*\u001b[39;49m\u001b[38;5;241;43m*\u001b[39;49m\u001b[43m(\u001b[49m\u001b[38;5;241;43m-\u001b[39;49m\u001b[38;5;241;43m1\u001b[39;49m\u001b[38;5;241;43m/\u001b[39;49m\u001b[38;5;241;43m2\u001b[39;49m\u001b[43m)\u001b[49m\u001b[38;5;241;43m/\u001b[39;49m\u001b[43m(\u001b[49m\u001b[43mt12\u001b[49m\u001b[38;5;241;43m-\u001b[39;49m\u001b[38;5;241;43m1\u001b[39;49m\u001b[43m)\u001b[49m))\n\u001b[0;32m     80\u001b[0m kk2\u001b[38;5;241m=\u001b[39m\u001b[38;5;241m-\u001b[39m\u001b[38;5;241m2\u001b[39m\u001b[38;5;241m/\u001b[39m\u001b[38;5;241m3\u001b[39m\u001b[38;5;241m*\u001b[39m(t12\u001b[38;5;241m*\u001b[39mS\u001b[38;5;241m/\u001b[39m(t12\u001b[38;5;241m-\u001b[39m\u001b[38;5;241m1\u001b[39m))\n\u001b[0;32m     81\u001b[0m Z\u001b[38;5;241m=\u001b[39m[]\n",
      "\u001b[1;31mZeroDivisionError\u001b[0m: float division by zero"
     ]
    }
   ],
   "source": [
    "freq_list=np.logspace(-1,4,100)\n",
    "\n",
    "Q=6.61e-4\n",
    "alpha=1\n",
    "\n",
    "R1=1015.29\n",
    "delta1=0.4\n",
    "R2=674.915\n",
    "\n",
    "freq_list=np.logspace(-3,3,10)\n",
    "\n",
    "theta_dip_list0=[]\n",
    "theta_dip_list1=[]\n",
    "theta_dip_list2=[]\n",
    "for profile in [\"TLMtwo\",\"TLMlinnew\",\"TLMilinnew\"]:\n",
    "    for R1 in R2*np.linspace(1,10):\n",
    "        for alpha in [1,0.9,0.8]:\n",
    "            # print(profile)\n",
    "            if profile==\"TLMtwo\":\n",
    "                cmodel=CustomCircuit(initial_guess=[R1,R1*Q,R2*Q,delta1,alpha],circuit=profile)\n",
    "            else:    \n",
    "                cmodel=CustomCircuit(initial_guess=[R1,R1*Q,R2*Q,alpha],circuit=profile)\n",
    "            \n",
    "            zexp=cmodel.predict(frequencies=freq_list)\n",
    "            dip_angle=alpha*45-np.min(-np.angle(zexp,deg=True))\n",
    "            theta_dip_list2.append(dip_angle)\n",
    "        theta_dip_list1.append(theta_dip_list2)\n",
    "        theta_dip_list2=[]\n",
    "    theta_dip_list0.append(theta_dip_list1)\n",
    "    theta_dip_list1=[]\n",
    "theta_dip_list0"
   ]
  }
 ],
 "metadata": {
  "kernelspec": {
   "display_name": "Python 3",
   "language": "python",
   "name": "python3"
  },
  "language_info": {
   "codemirror_mode": {
    "name": "ipython",
    "version": 3
   },
   "file_extension": ".py",
   "mimetype": "text/x-python",
   "name": "python",
   "nbconvert_exporter": "python",
   "pygments_lexer": "ipython3",
   "version": "3.10.11"
  }
 },
 "nbformat": 4,
 "nbformat_minor": 2
}
