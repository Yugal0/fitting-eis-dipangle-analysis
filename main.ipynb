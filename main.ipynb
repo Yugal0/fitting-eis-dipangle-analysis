{
 "cells": [
  {
   "cell_type": "markdown",
   "metadata": {},
   "source": [
    "I want to generate the three plots for two-step, linear, and inverse-linear"
   ]
  },
  {
   "cell_type": "code",
   "execution_count": 3,
   "metadata": {},
   "outputs": [],
   "source": [
    "%matplotlib ipympl\n",
    "from models import *\n",
    "from impedance.models.circuits import CustomCircuit\n",
    "import numpy as np\n",
    "import matplotlib.pyplot as plt"
   ]
  },
  {
   "cell_type": "code",
   "execution_count": 4,
   "metadata": {},
   "outputs": [
    {
     "name": "stderr",
     "output_type": "stream",
     "text": [
      "C:\\Users\\admin\\AppData\\Local\\Packages\\PythonSoftwareFoundation.Python.3.10_qbz5n2kfra8p0\\LocalCache\\local-packages\\Python310\\site-packages\\impedance\\models\\circuits\\circuits.py:144: UserWarning: Simulating circuit based on initial parameters\n",
      "  warnings.warn(\"Simulating circuit based on initial parameters\")\n"
     ]
    },
    {
     "name": "stdout",
     "output_type": "stream",
     "text": [
      "deno\n",
      "(0.078850715731844594492930514701483465959588017299771 + 0.000038678900808896528927774232530353695670683512619938j)\n",
      "deno\n",
      "(0.07885059880633988137709921206892412176990761499143 + 0.00017953151606471386798998413679829379546563503156582j)\n",
      "deno\n",
      "(0.07884807972604160094306177272834857852892282652209 + 0.00083330767762168754906863316144293674519609825892708j)\n",
      "deno\n",
      "(0.078793809337051802916526950956856992691774403678171 + 0.0038674913529755567525361811117104256696812268011765j)\n",
      "deno\n",
      "(0.077625309000576797984491617145460997606757512165086 + 0.017913287772056733735055626558190976126634869300429j)\n",
      "deno\n",
      "(0.052784028970311413898487439259050832373071815996501 + 0.079363657968050903502094691377214305416717487002025j)\n",
      "deno\n",
      "(-0.3354040846572418329244201734342745744292807883477 + 0.030475999144146752959406722441535310722304241772541j)\n",
      "deno\n",
      "(4.80224609375 + 12.1865234375j)\n",
      "deno\n",
      "(0.0 + 3.0649910817317777167166940543006183672374782443672e+54j)\n",
      "deno\n",
      "(0.0 + 0.0j)\n"
     ]
    },
    {
     "ename": "ZeroDivisionError",
     "evalue": "",
     "output_type": "error",
     "traceback": [
      "\u001b[1;31m---------------------------------------------------------------------------\u001b[0m",
      "\u001b[1;31mZeroDivisionError\u001b[0m                         Traceback (most recent call last)",
      "Cell \u001b[1;32mIn[4], line 24\u001b[0m\n\u001b[0;32m     21\u001b[0m \u001b[38;5;28;01melse\u001b[39;00m:    \n\u001b[0;32m     22\u001b[0m     cmodel\u001b[38;5;241m=\u001b[39mCustomCircuit(initial_guess\u001b[38;5;241m=\u001b[39m[R1,R1\u001b[38;5;241m*\u001b[39mQ,R2\u001b[38;5;241m*\u001b[39mQ,alpha],circuit\u001b[38;5;241m=\u001b[39mprofile)\n\u001b[1;32m---> 24\u001b[0m zexp\u001b[38;5;241m=\u001b[39m\u001b[43mcmodel\u001b[49m\u001b[38;5;241;43m.\u001b[39;49m\u001b[43mpredict\u001b[49m\u001b[43m(\u001b[49m\u001b[43mfrequencies\u001b[49m\u001b[38;5;241;43m=\u001b[39;49m\u001b[43mfreq_list\u001b[49m\u001b[43m)\u001b[49m\n\u001b[0;32m     25\u001b[0m dip_angle\u001b[38;5;241m=\u001b[39malpha\u001b[38;5;241m*\u001b[39m\u001b[38;5;241m45\u001b[39m\u001b[38;5;241m-\u001b[39mnp\u001b[38;5;241m.\u001b[39mmin(\u001b[38;5;241m-\u001b[39mnp\u001b[38;5;241m.\u001b[39mangle(zexp,deg\u001b[38;5;241m=\u001b[39m\u001b[38;5;28;01mTrue\u001b[39;00m))\n\u001b[0;32m     26\u001b[0m theta_dip_list2\u001b[38;5;241m.\u001b[39mappend(dip_angle)\n",
      "File \u001b[1;32m~\\AppData\\Local\\Packages\\PythonSoftwareFoundation.Python.3.10_qbz5n2kfra8p0\\LocalCache\\local-packages\\Python310\\site-packages\\impedance\\models\\circuits\\circuits.py:145\u001b[0m, in \u001b[0;36mBaseCircuit.predict\u001b[1;34m(self, frequencies, use_initial)\u001b[0m\n\u001b[0;32m    143\u001b[0m \u001b[38;5;28;01melse\u001b[39;00m:\n\u001b[0;32m    144\u001b[0m     warnings\u001b[38;5;241m.\u001b[39mwarn(\u001b[38;5;124m\"\u001b[39m\u001b[38;5;124mSimulating circuit based on initial parameters\u001b[39m\u001b[38;5;124m\"\u001b[39m)\n\u001b[1;32m--> 145\u001b[0m     \u001b[38;5;28;01mreturn\u001b[39;00m \u001b[38;5;28;43meval\u001b[39;49m\u001b[43m(\u001b[49m\u001b[43mbuildCircuit\u001b[49m\u001b[43m(\u001b[49m\u001b[38;5;28;43mself\u001b[39;49m\u001b[38;5;241;43m.\u001b[39;49m\u001b[43mcircuit\u001b[49m\u001b[43m,\u001b[49m\u001b[43m \u001b[49m\u001b[43mfrequencies\u001b[49m\u001b[43m,\u001b[49m\n\u001b[0;32m    146\u001b[0m \u001b[43m                             \u001b[49m\u001b[38;5;241;43m*\u001b[39;49m\u001b[38;5;28;43mself\u001b[39;49m\u001b[38;5;241;43m.\u001b[39;49m\u001b[43minitial_guess\u001b[49m\u001b[43m,\u001b[49m\n\u001b[0;32m    147\u001b[0m \u001b[43m                             \u001b[49m\u001b[43mconstants\u001b[49m\u001b[38;5;241;43m=\u001b[39;49m\u001b[38;5;28;43mself\u001b[39;49m\u001b[38;5;241;43m.\u001b[39;49m\u001b[43mconstants\u001b[49m\u001b[43m,\u001b[49m\u001b[43m \u001b[49m\u001b[43meval_string\u001b[49m\u001b[38;5;241;43m=\u001b[39;49m\u001b[38;5;124;43m'\u001b[39;49m\u001b[38;5;124;43m'\u001b[39;49m\u001b[43m,\u001b[49m\n\u001b[0;32m    148\u001b[0m \u001b[43m                             \u001b[49m\u001b[43mindex\u001b[49m\u001b[38;5;241;43m=\u001b[39;49m\u001b[38;5;241;43m0\u001b[39;49m\u001b[43m)\u001b[49m\u001b[43m[\u001b[49m\u001b[38;5;241;43m0\u001b[39;49m\u001b[43m]\u001b[49m\u001b[43m,\u001b[49m\n\u001b[0;32m    149\u001b[0m \u001b[43m                \u001b[49m\u001b[43mcircuit_elements\u001b[49m\u001b[43m)\u001b[49m\n",
      "File \u001b[1;32m<string>:1\u001b[0m\n",
      "File \u001b[1;32m~\\AppData\\Local\\Packages\\PythonSoftwareFoundation.Python.3.10_qbz5n2kfra8p0\\LocalCache\\local-packages\\Python310\\site-packages\\impedance\\models\\circuits\\elements.py:29\u001b[0m, in \u001b[0;36melement.<locals>.decorator.<locals>.wrapper\u001b[1;34m(p, f)\u001b[0m\n\u001b[0;32m     27\u001b[0m \u001b[38;5;28;01mdef\u001b[39;00m \u001b[38;5;21mwrapper\u001b[39m(p, f):\n\u001b[0;32m     28\u001b[0m     typeChecker(p, f, func\u001b[38;5;241m.\u001b[39m\u001b[38;5;18m__name__\u001b[39m, num_params)\n\u001b[1;32m---> 29\u001b[0m     \u001b[38;5;28;01mreturn\u001b[39;00m \u001b[43mfunc\u001b[49m\u001b[43m(\u001b[49m\u001b[43mp\u001b[49m\u001b[43m,\u001b[49m\u001b[43m \u001b[49m\u001b[43mf\u001b[49m\u001b[43m)\u001b[49m\n",
      "File \u001b[1;32me:\\code\\github.com\\yugal0\\fitting-eis-dipangle-analysis\\models.py:90\u001b[0m, in \u001b[0;36mTLMlinnew\u001b[1;34m(p, f)\u001b[0m\n\u001b[0;32m     88\u001b[0m \u001b[38;5;28mprint\u001b[39m(\u001b[38;5;124m\"\u001b[39m\u001b[38;5;124mdeno\u001b[39m\u001b[38;5;124m\"\u001b[39m)\n\u001b[0;32m     89\u001b[0m \u001b[38;5;28mprint\u001b[39m(((mp\u001b[38;5;241m.\u001b[39mbesseli(\u001b[38;5;241m-\u001b[39m\u001b[38;5;241m1\u001b[39m\u001b[38;5;241m/\u001b[39m\u001b[38;5;241m3\u001b[39m, kk1))\u001b[38;5;241m*\u001b[39mmp\u001b[38;5;241m.\u001b[39mbesseli(\u001b[38;5;241m1\u001b[39m\u001b[38;5;241m/\u001b[39m\u001b[38;5;241m3\u001b[39m, kk2)\u001b[38;5;241m-\u001b[39mmp\u001b[38;5;241m.\u001b[39mbesseli(\u001b[38;5;241m1\u001b[39m\u001b[38;5;241m/\u001b[39m\u001b[38;5;241m3\u001b[39m, kk1)\u001b[38;5;241m*\u001b[39mmp\u001b[38;5;241m.\u001b[39mbesseli(\u001b[38;5;241m-\u001b[39m\u001b[38;5;241m1\u001b[39m\u001b[38;5;241m/\u001b[39m\u001b[38;5;241m3\u001b[39m, kk2)))\n\u001b[1;32m---> 90\u001b[0m Zelem \u001b[38;5;241m=\u001b[39m \u001b[43m(\u001b[49m\u001b[38;5;241;43m2\u001b[39;49m\u001b[38;5;241;43m*\u001b[39;49m\u001b[43mR1\u001b[49m\u001b[38;5;241;43m/\u001b[39;49m\u001b[43mS\u001b[49m\u001b[43m)\u001b[49m\u001b[38;5;241;43m*\u001b[39;49m\u001b[43m(\u001b[49m\u001b[43mmp\u001b[49m\u001b[38;5;241;43m.\u001b[39;49m\u001b[43mbesseli\u001b[49m\u001b[43m(\u001b[49m\u001b[38;5;241;43m1\u001b[39;49m\u001b[38;5;241;43m/\u001b[39;49m\u001b[38;5;241;43m3\u001b[39;49m\u001b[43m,\u001b[49m\u001b[43m \u001b[49m\u001b[43mkk1\u001b[49m\u001b[43m)\u001b[49m\u001b[38;5;241;43m*\u001b[39;49m\u001b[43mmp\u001b[49m\u001b[38;5;241;43m.\u001b[39;49m\u001b[43mbesseli\u001b[49m\u001b[43m(\u001b[49m\u001b[38;5;241;43m2\u001b[39;49m\u001b[38;5;241;43m/\u001b[39;49m\u001b[38;5;241;43m3\u001b[39;49m\u001b[43m,\u001b[49m\u001b[43m \u001b[49m\u001b[43mkk2\u001b[49m\u001b[43m)\u001b[49m\u001b[38;5;241;43m-\u001b[39;49m\u001b[43mmp\u001b[49m\u001b[38;5;241;43m.\u001b[39;49m\u001b[43mbesseli\u001b[49m\u001b[43m(\u001b[49m\u001b[38;5;241;43m-\u001b[39;49m\u001b[38;5;241;43m1\u001b[39;49m\u001b[38;5;241;43m/\u001b[39;49m\u001b[38;5;241;43m3\u001b[39;49m\u001b[43m,\u001b[49m\u001b[43m \u001b[49m\u001b[43mkk1\u001b[49m\u001b[43m)\u001b[49m\u001b[38;5;241;43m*\u001b[39;49m\u001b[43mmp\u001b[49m\u001b[38;5;241;43m.\u001b[39;49m\u001b[43mbesseli\u001b[49m\u001b[43m(\u001b[49m\u001b[38;5;241;43m-\u001b[39;49m\u001b[38;5;241;43m2\u001b[39;49m\u001b[38;5;241;43m/\u001b[39;49m\u001b[38;5;241;43m3\u001b[39;49m\u001b[43m,\u001b[49m\u001b[43m \u001b[49m\u001b[43mkk2\u001b[49m\u001b[43m)\u001b[49m\u001b[43m)\u001b[49m\u001b[38;5;241;43m/\u001b[39;49m\u001b[43m(\u001b[49m\u001b[43m(\u001b[49m\u001b[43mmp\u001b[49m\u001b[38;5;241;43m.\u001b[39;49m\u001b[43mbesseli\u001b[49m\u001b[43m(\u001b[49m\u001b[38;5;241;43m-\u001b[39;49m\u001b[38;5;241;43m1\u001b[39;49m\u001b[38;5;241;43m/\u001b[39;49m\u001b[38;5;241;43m3\u001b[39;49m\u001b[43m,\u001b[49m\u001b[43m \u001b[49m\u001b[43mkk1\u001b[49m\u001b[43m)\u001b[49m\u001b[43m)\u001b[49m\u001b[38;5;241;43m*\u001b[39;49m\u001b[43mmp\u001b[49m\u001b[38;5;241;43m.\u001b[39;49m\u001b[43mbesseli\u001b[49m\u001b[43m(\u001b[49m\u001b[38;5;241;43m1\u001b[39;49m\u001b[38;5;241;43m/\u001b[39;49m\u001b[38;5;241;43m3\u001b[39;49m\u001b[43m,\u001b[49m\u001b[43m \u001b[49m\u001b[43mkk2\u001b[49m\u001b[43m)\u001b[49m\u001b[38;5;241;43m-\u001b[39;49m\u001b[43mmp\u001b[49m\u001b[38;5;241;43m.\u001b[39;49m\u001b[43mbesseli\u001b[49m\u001b[43m(\u001b[49m\u001b[38;5;241;43m1\u001b[39;49m\u001b[38;5;241;43m/\u001b[39;49m\u001b[38;5;241;43m3\u001b[39;49m\u001b[43m,\u001b[49m\u001b[43m \u001b[49m\u001b[43mkk1\u001b[49m\u001b[43m)\u001b[49m\u001b[38;5;241;43m*\u001b[39;49m\u001b[43mmp\u001b[49m\u001b[38;5;241;43m.\u001b[39;49m\u001b[43mbesseli\u001b[49m\u001b[43m(\u001b[49m\u001b[38;5;241;43m-\u001b[39;49m\u001b[38;5;241;43m1\u001b[39;49m\u001b[38;5;241;43m/\u001b[39;49m\u001b[38;5;241;43m3\u001b[39;49m\u001b[43m,\u001b[49m\u001b[43m \u001b[49m\u001b[43mkk2\u001b[49m\u001b[43m)\u001b[49m\u001b[43m)\u001b[49m\n\u001b[0;32m     91\u001b[0m Zelem\u001b[38;5;241m=\u001b[39mmp\u001b[38;5;241m.\u001b[39mnstr(Zelem,n\u001b[38;5;241m=\u001b[39m\u001b[38;5;241m50\u001b[39m)\n\u001b[0;32m     92\u001b[0m Zelem \u001b[38;5;241m=\u001b[39m Zelem\u001b[38;5;241m.\u001b[39mreplace(\u001b[38;5;124m'\u001b[39m\u001b[38;5;124m \u001b[39m\u001b[38;5;124m'\u001b[39m,\u001b[38;5;124m'\u001b[39m\u001b[38;5;124m'\u001b[39m)\u001b[38;5;241m.\u001b[39mreplace(\u001b[38;5;124m'\u001b[39m\u001b[38;5;124m(\u001b[39m\u001b[38;5;124m'\u001b[39m,\u001b[38;5;124m'\u001b[39m\u001b[38;5;124m'\u001b[39m)\u001b[38;5;241m.\u001b[39mreplace(\u001b[38;5;124m'\u001b[39m\u001b[38;5;124m)\u001b[39m\u001b[38;5;124m'\u001b[39m,\u001b[38;5;124m'\u001b[39m\u001b[38;5;124m'\u001b[39m) \n",
      "File \u001b[1;32m~\\AppData\\Local\\Packages\\PythonSoftwareFoundation.Python.3.10_qbz5n2kfra8p0\\LocalCache\\local-packages\\Python310\\site-packages\\mpmath\\ctx_mp_python.py:523\u001b[0m, in \u001b[0;36m_mpc.__div__\u001b[1;34m(s, t)\u001b[0m\n\u001b[0;32m    521\u001b[0m         \u001b[38;5;28;01mreturn\u001b[39;00m v\n\u001b[0;32m    522\u001b[0m v \u001b[38;5;241m=\u001b[39m new(\u001b[38;5;28mcls\u001b[39m)\n\u001b[1;32m--> 523\u001b[0m v\u001b[38;5;241m.\u001b[39m_mpc_ \u001b[38;5;241m=\u001b[39m \u001b[43mmpc_div\u001b[49m\u001b[43m(\u001b[49m\u001b[43ms\u001b[49m\u001b[38;5;241;43m.\u001b[39;49m\u001b[43m_mpc_\u001b[49m\u001b[43m,\u001b[49m\u001b[43m \u001b[49m\u001b[43mt\u001b[49m\u001b[38;5;241;43m.\u001b[39;49m\u001b[43m_mpc_\u001b[49m\u001b[43m,\u001b[49m\u001b[43m \u001b[49m\u001b[43mprec\u001b[49m\u001b[43m,\u001b[49m\u001b[43m \u001b[49m\u001b[43mrounding\u001b[49m\u001b[43m)\u001b[49m\n\u001b[0;32m    524\u001b[0m \u001b[38;5;28;01mreturn\u001b[39;00m v\n",
      "File \u001b[1;32m~\\AppData\\Local\\Packages\\PythonSoftwareFoundation.Python.3.10_qbz5n2kfra8p0\\LocalCache\\local-packages\\Python310\\site-packages\\mpmath\\libmp\\libmpc.py:203\u001b[0m, in \u001b[0;36mmpc_div\u001b[1;34m(z, w, prec, rnd)\u001b[0m\n\u001b[0;32m    201\u001b[0m t \u001b[38;5;241m=\u001b[39m mpf_add(mpf_mul(a,c), mpf_mul(b,d), wp)\n\u001b[0;32m    202\u001b[0m u \u001b[38;5;241m=\u001b[39m mpf_sub(mpf_mul(b,c), mpf_mul(a,d), wp)\n\u001b[1;32m--> 203\u001b[0m \u001b[38;5;28;01mreturn\u001b[39;00m \u001b[43mmpf_div\u001b[49m\u001b[43m(\u001b[49m\u001b[43mt\u001b[49m\u001b[43m,\u001b[49m\u001b[43mmag\u001b[49m\u001b[43m,\u001b[49m\u001b[43mprec\u001b[49m\u001b[43m,\u001b[49m\u001b[43mrnd\u001b[49m\u001b[43m)\u001b[49m, mpf_div(u,mag,prec,rnd)\n",
      "File \u001b[1;32m~\\AppData\\Local\\Packages\\PythonSoftwareFoundation.Python.3.10_qbz5n2kfra8p0\\LocalCache\\local-packages\\Python310\\site-packages\\mpmath\\libmp\\libmpf.py:956\u001b[0m, in \u001b[0;36mmpf_div\u001b[1;34m(s, t, prec, rnd)\u001b[0m\n\u001b[0;32m    954\u001b[0m \u001b[38;5;28;01mif\u001b[39;00m \u001b[38;5;129;01mnot\u001b[39;00m sman \u001b[38;5;129;01mor\u001b[39;00m \u001b[38;5;129;01mnot\u001b[39;00m tman:\n\u001b[0;32m    955\u001b[0m     \u001b[38;5;28;01mif\u001b[39;00m s \u001b[38;5;241m==\u001b[39m fzero:\n\u001b[1;32m--> 956\u001b[0m         \u001b[38;5;28;01mif\u001b[39;00m t \u001b[38;5;241m==\u001b[39m fzero: \u001b[38;5;28;01mraise\u001b[39;00m \u001b[38;5;167;01mZeroDivisionError\u001b[39;00m\n\u001b[0;32m    957\u001b[0m         \u001b[38;5;28;01mif\u001b[39;00m t \u001b[38;5;241m==\u001b[39m fnan: \u001b[38;5;28;01mreturn\u001b[39;00m fnan\n\u001b[0;32m    958\u001b[0m         \u001b[38;5;28;01mreturn\u001b[39;00m fzero\n",
      "\u001b[1;31mZeroDivisionError\u001b[0m: "
     ]
    }
   ],
   "source": [
    "freq_list=np.logspace(-1,4,100)\n",
    "\n",
    "Q=6.61e-4\n",
    "alpha=1\n",
    "\n",
    "R1=1015.29\n",
    "delta1=0.4\n",
    "R2=674.915\n",
    "\n",
    "freq_list=np.logspace(-3,3,10)\n",
    "\n",
    "theta_dip_list0=[]\n",
    "theta_dip_list1=[]\n",
    "theta_dip_list2=[]\n",
    "for profile in [\"TLMtwo\",\"TLMlinnew\",\"TLMilinnew\"]:\n",
    "    for R1 in R2*np.linspace(1.1,10):\n",
    "        for alpha in [1,0.9,0.8]:\n",
    "            # print(profile)\n",
    "            if profile==\"TLMtwo\":\n",
    "                cmodel=CustomCircuit(initial_guess=[R1,R1*Q,R2*Q,delta1,alpha],circuit=profile)\n",
    "            else:    \n",
    "                cmodel=CustomCircuit(initial_guess=[R1,R1*Q,R2*Q,alpha],circuit=profile)\n",
    "            \n",
    "            zexp=cmodel.predict(frequencies=freq_list)\n",
    "            dip_angle=alpha*45-np.min(-np.angle(zexp,deg=True))\n",
    "            theta_dip_list2.append(dip_angle)\n",
    "        theta_dip_list1.append(theta_dip_list2)\n",
    "        theta_dip_list2=[]\n",
    "    theta_dip_list0.append(theta_dip_list1)\n",
    "    theta_dip_list1=[]\n",
    "theta_dip_list0"
   ]
  }
 ],
 "metadata": {
  "kernelspec": {
   "display_name": "Python 3",
   "language": "python",
   "name": "python3"
  },
  "language_info": {
   "codemirror_mode": {
    "name": "ipython",
    "version": 3
   },
   "file_extension": ".py",
   "mimetype": "text/x-python",
   "name": "python",
   "nbconvert_exporter": "python",
   "pygments_lexer": "ipython3",
   "version": "3.10.11"
  }
 },
 "nbformat": 4,
 "nbformat_minor": 2
}
