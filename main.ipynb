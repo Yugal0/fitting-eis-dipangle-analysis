{
 "cells": [
  {
   "cell_type": "markdown",
   "metadata": {},
   "source": [
    "I want to generate the three plots for two-step, linear, and inverse-linear"
   ]
  },
  {
   "cell_type": "code",
   "execution_count": 2,
   "metadata": {},
   "outputs": [],
   "source": [
    "%matplotlib ipympl\n",
    "from models import *\n",
    "from impedance.models.circuits import CustomCircuit\n",
    "import numpy as np\n",
    "import matplotlib.pyplot as plt\n",
    "freq_list=np.logspace(-1,4,100)\n",
    "\n",
    "Q=6.61e-4\n",
    "alpha=1\n",
    "\n",
    "R1=1015.29\n",
    "delta1=0.2063\n",
    "R2=674.915\n",
    "\n",
    "freq_list=np.logspace(-3,1,10)\n",
    "\n",
    "theta_dip_list0=[]\n",
    "theta_dip_list1=[]\n",
    "theta_dip_list2=[]\n",
    "for profile in [\"TLMtwo\",\"TLMlinnew\",\"TLMilinnew\"]:\n",
    "    for R1 in R2*np.linspace(1.1,10):\n",
    "        for alpha in [1,0.9,0.8]:\n",
    "            # print(profile)\n",
    "            if profile==\"TLMtwo\":\n",
    "                cmodel=CustomCircuit(initial_guess=[R1,R1*Q,R2*Q,delta1,alpha],circuit=profile)\n",
    "            else:    \n",
    "                cmodel=CustomCircuit(initial_guess=[R1,R1*Q,R2*Q,alpha],circuit=profile)\n",
    "            \n",
    "            zexp=cmodel.predict(frequencies=freq_list)\n",
    "            dip_angle=alpha*45-np.min(-np.angle(zexp,deg=True))\n",
    "            theta_dip_list2.append(dip_angle)\n",
    "        theta_dip_list1.append(theta_dip_list2)\n",
    "        theta_dip_list2=[]\n",
    "    theta_dip_list0.append(theta_dip_list1)\n",
    "    theta_dip_list1=[]\n",
    "# theta_dip_list0\n"
   ]
  },
  {
   "cell_type": "code",
   "execution_count": null,
   "metadata": {},
   "outputs": [],
   "source": [
    "ax_list=[ax_two, ax_lin, ax_ilin]\n",
    "fig, ax_list=plt.subplots(3,1)\n",
    "\n",
    "for ax,theta in zip(ax_list,theta_dip_list0):\n",
    "    for alpha in [1,0.9,0.8]:\n",
    "        "
   ]
  }
 ],
 "metadata": {
  "kernelspec": {
   "display_name": "Python 3",
   "language": "python",
   "name": "python3"
  },
  "language_info": {
   "codemirror_mode": {
    "name": "ipython",
    "version": 3
   },
   "file_extension": ".py",
   "mimetype": "text/x-python",
   "name": "python",
   "nbconvert_exporter": "python",
   "pygments_lexer": "ipython3",
   "version": "3.10.11"
  }
 },
 "nbformat": 4,
 "nbformat_minor": 2
}
