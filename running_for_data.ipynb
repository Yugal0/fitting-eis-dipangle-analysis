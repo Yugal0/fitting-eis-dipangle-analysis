{
 "cells": [
  {
   "cell_type": "code",
   "execution_count": 1,
   "metadata": {},
   "outputs": [],
   "source": [
    "%matplotlib ipympl\n",
    "from models import *\n",
    "from impedance.models.circuits import CustomCircuit\n",
    "import numpy as np\n",
    "import matplotlib.pyplot as plt\n",
    "from mpmath import * "
   ]
  },
  {
   "cell_type": "code",
   "execution_count": 2,
   "metadata": {},
   "outputs": [
    {
     "name": "stderr",
     "output_type": "stream",
     "text": [
      "C:\\Users\\admin\\AppData\\Local\\Packages\\PythonSoftwareFoundation.Python.3.10_qbz5n2kfra8p0\\LocalCache\\local-packages\\Python310\\site-packages\\impedance\\models\\circuits\\circuits.py:144: UserWarning: Simulating circuit based on initial parameters\n",
      "  warnings.warn(\"Simulating circuit based on initial parameters\")\n"
     ]
    }
   ],
   "source": [
    "ratio_range=np.linspace(1.2,10,50)\n",
    "Q=6.61e-4\n",
    "alpha=1\n",
    "\n",
    "R1=1015.29\n",
    "delta1=0.2063\n",
    "R2=674.915\n",
    "freq_list=np.logspace(-2,2,500)\n",
    "mp.dps=200\n",
    "\n",
    "theta_dip_list0=[]\n",
    "theta_dip_list1=[]\n",
    "theta_dip_list2=[]\n",
    "\n",
    "for profile in [\"TLMtwo\",\"TLMlinnew\",\"TLMilinnew\"]:\n",
    "    for alpha in [1,0.9,0.8]:\n",
    "        for R1 in R2*ratio_range:\n",
    "            if profile==\"TLMtwo\":\n",
    "                cmodel=CustomCircuit(initial_guess=[R1,R1*Q,R2*Q,delta1,alpha],circuit=profile)\n",
    "            else:\n",
    "                cmodel=CustomCircuit(initial_guess=[R1,R1*Q,R2*Q,alpha],circuit=profile)\n",
    "            \n",
    "            zexp=cmodel.predict(frequencies=freq_list)\n",
    "            dip_angle=alpha*45-np.min(-np.angle(zexp,deg=True))\n",
    "            theta_dip_list2.append(dip_angle)\n",
    "        theta_dip_list1.append(theta_dip_list2)\n",
    "        theta_dip_list2=[]\n",
    "    theta_dip_list0.append(theta_dip_list1)\n",
    "    theta_dip_list1=[]"
   ]
  }
 ],
 "metadata": {
  "kernelspec": {
   "display_name": "Python 3",
   "language": "python",
   "name": "python3"
  },
  "language_info": {
   "codemirror_mode": {
    "name": "ipython",
    "version": 3
   },
   "file_extension": ".py",
   "mimetype": "text/x-python",
   "name": "python",
   "nbconvert_exporter": "python",
   "pygments_lexer": "ipython3",
   "version": "3.10.11"
  }
 },
 "nbformat": 4,
 "nbformat_minor": 2
}
